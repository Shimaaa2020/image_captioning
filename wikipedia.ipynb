{
 "cells": [
  {
   "cell_type": "code",
   "execution_count": 2,
   "metadata": {},
   "outputs": [],
   "source": [
    "import wikipediaapi"
   ]
  },
  {
   "cell_type": "code",
   "execution_count": 3,
   "metadata": {},
   "outputs": [
    {
     "name": "stdout",
     "output_type": "stream",
     "text": [
      "A football,  soccer ball, football ball,  or association football ball is the ball used in the sport of association football. The name of the ball varies according to whether the sport is called \"football\", \"soccer\", or \"association football\". The ball's spherical shape, as well as its size, weight, and material composition, are specified by Law 2 of the Laws of the Game maintained by the International Football Association Board. Additional, more stringent standards are specified by FIFA and subordinate governing bodies for the balls used in the competitions they sanction.\n",
      "Early footballs began as animal bladders or stomachs that would easily fall apart if kicked too much. Improvements became possible in the 19th century with the introduction of rubber and discoveries of vulcanization by Charles Goodyear. The modern 32-panel ball design was developed in 1962 by Eigil Nielsen, and technological research continues today to develop footballs with improved performance. The 32-panel ball design was soon overcome by 24-panel balls as well as 42-panel balls, both of which improved performance compared to before, in 2007.A black-and-white patterned spherical truncated icosahedron design, brought to prominence by the Adidas Telstar, has become an icon of the sport. Many different designs of balls exist, varying both in appearance and physical characteristics.\n",
      "\n",
      "History\n",
      "First years of football codes\n",
      "In the year 1863, the first specifications for footballs were laid down by the Football Association. Previous to this, footballs were made out of inflated leather, with later leather coverings to help footballs maintain their shapes. In 1872 the specifications were revised, and these rules have been left essentially unchanged as defined by the International Football Association Board. Differences in footballs created since this rule came into effect have been to do with the material used in their creation.\n",
      "Footballs have gone through a dramatic change over time. During medieval times balls were normally made from an outer shell of leather filled with cork shavings. Another method of creating a ball was using animal bladders for the inside of the ball making it inflatable. However, these two styles of creating footballs made it easy for the ball to puncture and were inadequate for kicking.  It was not until the 19th century that footballs developed into what a football looks like today.\n",
      "\n",
      "Vulcanisation\n",
      "In 1838, Charles Goodyear  introduced vulcanized rubber, which dramatically improved the football. Vulcanisation is the treatment of rubber to give it certain qualities such as strength, elasticity, and resistance to solvents. Vulcanisation of rubber also helps the football resist moderate heat and cold.  Vulcanisation helped create inflatable bladders that pressurize the outer panel arrangement of the football. Charles Goodyear's innovation increased the bounce ability of the ball and made it easier to kick. Most balls of this time had tanned leather with eighteen sections stitched together. These were arranged in six panels of three strips each.\n",
      "\n",
      "Reasons for improvement\n",
      "During the 1900s, footballs were made out of leather with a lace of the same material (known as tiento in Spanish) used to stitch the panels. Although leather was perfect for bouncing and kicking the ball, when heading the football (hitting it with the player's head) it was usually painful. This problem was most probably due to water absorption of the leather from rain, which caused a considerable increase in weight, causing head or neck injury. By around 2017, this had also been associated with dementia in former players. Another problem of early footballs was that they deteriorated quickly, as the leather used in manufacturing the footballs varied in thickness and in quality.The ball without the leather lace was developed and patented by Romano Polo, Antonio Tossolini and Juan Valbonesi in 1931 in Argentina. This innovative ball (named Superball) would be adopted by the Argentine Football Association as the official ball for its competitions since 1932.\n",
      "\n",
      "Present developments\n",
      "Elements of the football that today are tested are the deformation of the football when it is kicked or when the ball hits a surface. Two styles of footballs have been tested by the Sports Technology Research Group of Wolfson School of Mechanical and Manufacturing Engineering in Loughborough University; these two models are called the Basic FE model and the Developed FE model of the football. The basic model considered the ball as being a spherical shell with isotropic material properties. The developed model also utilised isotropic material properties but included an additional stiffer stitching seam region.\n",
      "Manufacturers are experimenting with microchips and even cameras embedded inside the ball. The microchip technology was considered for the goal-line technology. The 2018 World Cup in Russia ball had an embedded chip which did not provided any measurements, but provided 'user experience' by interaction on user smartphone after connecting with the ball via NFC connection. Since 2017 American football league is already using chips in their balls that measure live speed and flight data.\n",
      "\n",
      "Future developments\n",
      "Companies such as Umbro, Mitre, Adidas, Nike, Select and Puma are releasing footballs made out of new materials which are intended to provide more accurate flight and more power to be transferred to the football.\n",
      "\n",
      "Specification\n",
      "Construction\n",
      "Today's footballs are much more complex than past footballs. Most modern footballs consist of twelve regular pentagonal and twenty regular hexagonal panels positioned in a truncated icosahedron spherical geometry. Some premium-grade 32-panel balls use non-regular polygons to give a closer approximation to sphericality. The inside of the football is made up of a latex or butyl rubber bladder which enables the football to be pressurised. The ball's outside is made of leather, synthetic leather, polyurethane or PVC panels. The surface can be textured, weaved or embossed for greater control and touch. The panel pairs are either machine-stitched, hand-stitched or thermo-bonded (glued and bonded by heat) along the edge. To prevent water absorption balls may be specially coated, or the stitches bonded with glue. The size of a football is roughly 22 cm (8.66 inches) in diameter for a regulation size 5 ball. Rules state that a size 5 ball must be 68 to 70 cm (27 to 28 in) in circumference. Averaging that to 69 cm (27 in) and then dividing by π gives about 22 cm (8.7 in) for a diameter.\n",
      "\n",
      "Size and weight\n",
      "Size 1. At 18–20 in (46–51 cm) in circumference, the size 1 ball is traditionally constructed as a twelve-panel dodecahedron. It is not used in competition; the size 1 is more commonly used as either a practice ball for agility drills or as a souvenir.\n",
      "Size 2. This size is about half of a regulation-sized soccer ball. With a circumference of 21–22 in (53–56 cm), it is rarely seen in the United States.\n",
      "Size 3. It is designed for younger, U9 children. It has the same ratio of weight to a youth foot as a regulation ball to an adult foot, with a circumference of 23–24 in (58–61 cm).\n",
      "Size 4. This soccer ball is intended for children at the U12–U14 levels. The ball should weigh between 350–390 g (12–14 oz), with a circumference of 63.5–66 cm (25–26 in). It is not quite the full size of a regulation ball, but it will help to advance the skills of younger players.\n",
      "Size 5. The regulation size for a soccer ball. Both men and women aged 15 and above use this size for all organized play at the high school, collegiate, and professional level. The ball should weigh between 410–450 g (14–16 oz), with a circumference of 68–70 cm (27–28 in). The ball's weight must be in the range of 410 to 450 g (14 to 16 oz) and inflated to a pressure of 0.6 and 1.1 bars (8.7 and 16.0 psi) at sea level.\n",
      "\n",
      "Types of ball\n",
      "There are a number of different types of football balls depending on the match and turf including training footballs, match footballs, professional match footballs, beach footballs, street footballs, indoor footballs, turf balls, futsal footballs and mini/skills footballs.\n",
      "\n",
      "Professional/Premium Match Soccer Balls are developed with top professional clubs to maximize players natural abilities and skills. They are FIFA-approved for use at the highest professional and international levels and designed for performance, exact specifications, great accuracy, speed and control.  Air retention, water-resistance, and performance are far superior when compared to a training ball. Intended for all natural and artificial turf surfaces and all climates. These are the most expensive soccer balls.\n",
      "Matchday Soccer Balls are high performance range of balls for all playing surfaces. The outer casing is either leather or an approved synthetic and it will typically be water-resistant as well. They are guaranteed to conform to official size, weight, and texture regulations, designed to suit all levels of play and all age groups. These balls cost more than turf or training balls, which is offset by their superior level of quality.\n",
      "Recreational/Practice/Training Soccer Balls are tough and highly durable balls for extended use. Made of robust materials for use on all playing surfaces and used by players at any level. Practice balls are the least expensive balls when compared with match type soccer balls.\n",
      "Turf Balls are specifically designed to work on artificial surfaces that mimic grass. They are durable and reasonably affordable, but tend to skip more when used on a natural pitch.\n",
      "Promotional Balls are usually made to promote a name brand, organization or event.\n",
      "Indoor Soccer Balls come in the same sizes as the outdoor soccer balls, but are designed to have less bounce and rebound in them, making it possible to control the ball on a smaller court or indoor arena. The cover of an indoor ball is also the strongest of any category, so it can withstand the hard rebound impact on the court flooring and wall surfaces.\n",
      "Futsal Soccer Balls differ from typical soccer balls in that the bladder is filled with foam. That makes the ball heavier and with less bounce for use on the hard futsal playing surface. Besides that, a futsal soccer ball is smaller in size than a football used in the soccer field.\n",
      "\n",
      "Suppliers\n",
      "Many companies throughout the world produce footballs. The earliest balls were made by local suppliers where the game was played. It is estimated that 55% of all footballs are made in Sialkot, Pakistan, with other major producers being China and India.As a response to the problems with the balls in the 1962 FIFA World Cup, Adidas created the Adidas Santiago – this led to Adidas winning the contract to supply the match balls for all official FIFA and UEFA matches, which they have held since the 1970s, and also for the Olympic Games. They also supply the ball for the UEFA Champions League which is called the Adidas Finale.\n",
      "\n",
      "FIFA World Cup\n",
      "In early FIFA World Cups, match balls were mostly provided by the hosts from local suppliers. Records indicate a variety of models being used within individual tournaments and even, on some occasions, individual games. Over time, FIFA took more control over the choice of ball used. Since 1970 Adidas have supplied official match balls for every tournament.\n",
      "\n",
      "League balls\n",
      "The following lists the most up-to-date balls used in various club football competitions:\n",
      "\n",
      "In popular culture\n",
      "The association football symbol (U+26BD) was introduced by computing standard Unicode. The symbol was representable in HTML as &#9917; or &#x26BD;. The addition of this symbol follows a 2008 proposal by Karl Pentzlin.\n",
      "\n",
      "Unicode\n",
      "In Unicode there is a symbol U+26BD ⚽ SOCCER BALL (HTML &#9917;) for football.\n",
      "\n",
      "See also\n",
      "Ball (gridiron football)\n",
      "Football (ball)\n",
      "\n",
      "References\n",
      "External links\n",
      "New York Times interactive feature on the evolution of the world cup ball\n",
      "van Rheenen, Erik (16 August 2013). \"Why Are Soccer Balls Made of Hexagons?\". Mental Floss. Retrieved 16 August 2013.\n",
      "How to inflate soccer Ball??\n"
     ]
    }
   ],
   "source": [
    "wiki_wiki = wikipediaapi.Wikipedia(language='en', extract_format=wikipediaapi.ExtractFormat.WIKI)\n",
    "\n",
    "p_wiki = wiki_wiki.page('soccer_ball')\n",
    "print(p_wiki.text)"
   ]
  },
  {
   "cell_type": "code",
   "execution_count": 14,
   "metadata": {},
   "outputs": [
    {
     "name": "stdout",
     "output_type": "stream",
     "text": [
      "Sunglasses or sun glasses (informally called shades) are a form of protective eyewear designed primarily to prevent bright sunlight and high-energy visible light from damaging or discomforting the eyes. They can sometimes also function as a visual aid, as variously termed spectacles or glasses exist, featuring lenses that are colored, polarized or darkened. In the early 20th century, they were also known as sun cheaters (cheaters then being an American slang term for glasses).The American Optometric Association recommends wearing sunglasses that block ultraviolet radiation (UV) whenever a person is in the sunlight to protect the eyes from  UV and blue light, which can cause several serious eye problems. Its usage is mandatory immediately after some surgical procedures, such as LASIK, and recommended for a certain time period in dusty areas, when leaving the house and in front of a TV screen or computer monitor after LASEK. It is important to note that dark glasses that do not block UV radiation can be more damaging to the eyes than not wearing eye protection at all, since they tend to open the pupil and allow more UV rays into the eye. Since the 1940s, sunglasses have been a popular fashion accessory, especially on the beach.\n"
     ]
    }
   ],
   "source": [
    "    page_py = wiki_wiki.page('sunglasses')\n",
    "    wiki_wiki = wikipediaapi.Wikipedia('en')\n",
    "\n",
    "#     print(\"Page - Title: %s\" % page_py.title)\n",
    "    # Page - Title: Python (programming language)\n",
    "\n",
    "    print(page_py.summary)\n"
   ]
  },
  {
   "cell_type": "code",
   "execution_count": null,
   "metadata": {},
   "outputs": [],
   "source": []
  }
 ],
 "metadata": {
  "kernelspec": {
   "display_name": "Python 3",
   "language": "python",
   "name": "python3"
  },
  "language_info": {
   "codemirror_mode": {
    "name": "ipython",
    "version": 3
   },
   "file_extension": ".py",
   "mimetype": "text/x-python",
   "name": "python",
   "nbconvert_exporter": "python",
   "pygments_lexer": "ipython3",
   "version": "3.6.8"
  }
 },
 "nbformat": 4,
 "nbformat_minor": 4
}
